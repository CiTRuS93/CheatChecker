{
 "cells": [
  {
   "cell_type": "code",
   "execution_count": 1,
   "metadata": {},
   "outputs": [],
   "source": [
    "import pandas\n",
    "dataset=pandas.read_csv('../data\\בדיקה-tst exam-תגובות.csv')\n"
   ]
  },
  {
   "cell_type": "code",
   "execution_count": 2,
   "metadata": {},
   "outputs": [
    {
     "data": {
      "text/html": [
       "<div>\n",
       "<style scoped>\n",
       "    .dataframe tbody tr th:only-of-type {\n",
       "        vertical-align: middle;\n",
       "    }\n",
       "\n",
       "    .dataframe tbody tr th {\n",
       "        vertical-align: top;\n",
       "    }\n",
       "\n",
       "    .dataframe thead th {\n",
       "        text-align: right;\n",
       "    }\n",
       "</style>\n",
       "<table border=\"1\" class=\"dataframe\">\n",
       "  <thead>\n",
       "    <tr style=\"text-align: right;\">\n",
       "      <th></th>\n",
       "      <th>שם משפחה</th>\n",
       "      <th>שם פרטי</th>\n",
       "      <th>דוא\"ל</th>\n",
       "      <th>מצב</th>\n",
       "      <th>התחיל ב:</th>\n",
       "      <th>הושלם</th>\n",
       "      <th>משך הזמן שלקח לענות</th>\n",
       "      <th>ציון/10.00</th>\n",
       "      <th>תגובות 1</th>\n",
       "      <th>תגובות 2</th>\n",
       "    </tr>\n",
       "  </thead>\n",
       "  <tbody>\n",
       "    <tr>\n",
       "      <th>0</th>\n",
       "      <td>דיקה</td>\n",
       "      <td>ב</td>\n",
       "      <td>hadarradah@gmail.com</td>\n",
       "      <td>הסתיים</td>\n",
       "      <td>09/09/20 14:02</td>\n",
       "      <td>09/09/20 14:03</td>\n",
       "      <td>12 שניות</td>\n",
       "      <td>10</td>\n",
       "      <td>khglkjblkjgljhg</td>\n",
       "      <td>asdasd</td>\n",
       "    </tr>\n",
       "    <tr>\n",
       "      <th>1</th>\n",
       "      <td>sa</td>\n",
       "      <td>asd</td>\n",
       "      <td>some_mail</td>\n",
       "      <td>הסתיים</td>\n",
       "      <td>09/09/20 14:02</td>\n",
       "      <td>09/09/20 14:03</td>\n",
       "      <td>12 שניות</td>\n",
       "      <td>10</td>\n",
       "      <td>sdfsdfa</td>\n",
       "      <td>asdasd</td>\n",
       "    </tr>\n",
       "  </tbody>\n",
       "</table>\n",
       "</div>"
      ],
      "text/plain": [
       "  שם משפחה שם פרטי                 דוא\"ל     מצב        התחיל ב:  \\\n",
       "0     דיקה       ב  hadarradah@gmail.com  הסתיים  09/09/20 14:02   \n",
       "1       sa     asd             some_mail  הסתיים  09/09/20 14:02   \n",
       "\n",
       "            הושלם משך הזמן שלקח לענות  ציון/10.00         תגובות 1 תגובות 2  \n",
       "0  09/09/20 14:03            12 שניות          10  khglkjblkjgljhg   asdasd  \n",
       "1  09/09/20 14:03            12 שניות          10          sdfsdfa   asdasd  "
      ]
     },
     "execution_count": 2,
     "metadata": {},
     "output_type": "execute_result"
    }
   ],
   "source": [
    "dataset"
   ]
  },
  {
   "cell_type": "code",
   "execution_count": 3,
   "metadata": {},
   "outputs": [],
   "source": [
    "colNames = dataset.columns[dataset.columns.str.contains(pat = 'תגובות') | dataset.columns.str.contains(pat = 'דוא\"ל')] "
   ]
  },
  {
   "cell_type": "code",
   "execution_count": 4,
   "metadata": {},
   "outputs": [
    {
     "data": {
      "text/plain": [
       "Index(['דוא\"ל', 'תגובות 1', 'תגובות 2'], dtype='object')"
      ]
     },
     "execution_count": 4,
     "metadata": {},
     "output_type": "execute_result"
    }
   ],
   "source": [
    "colNames"
   ]
  },
  {
   "cell_type": "code",
   "execution_count": 5,
   "metadata": {
    "scrolled": true
   },
   "outputs": [
    {
     "data": {
      "text/html": [
       "<div>\n",
       "<style scoped>\n",
       "    .dataframe tbody tr th:only-of-type {\n",
       "        vertical-align: middle;\n",
       "    }\n",
       "\n",
       "    .dataframe tbody tr th {\n",
       "        vertical-align: top;\n",
       "    }\n",
       "\n",
       "    .dataframe thead th {\n",
       "        text-align: right;\n",
       "    }\n",
       "</style>\n",
       "<table border=\"1\" class=\"dataframe\">\n",
       "  <thead>\n",
       "    <tr style=\"text-align: right;\">\n",
       "      <th></th>\n",
       "      <th>דוא\"ל</th>\n",
       "      <th>תגובות 1</th>\n",
       "      <th>תגובות 2</th>\n",
       "    </tr>\n",
       "  </thead>\n",
       "  <tbody>\n",
       "    <tr>\n",
       "      <th>0</th>\n",
       "      <td>hadarradah@gmail.com</td>\n",
       "      <td>khglkjblkjgljhg</td>\n",
       "      <td>asdasd</td>\n",
       "    </tr>\n",
       "    <tr>\n",
       "      <th>1</th>\n",
       "      <td>some_mail</td>\n",
       "      <td>sdfsdfa</td>\n",
       "      <td>asdasd</td>\n",
       "    </tr>\n",
       "  </tbody>\n",
       "</table>\n",
       "</div>"
      ],
      "text/plain": [
       "                  דוא\"ל         תגובות 1 תגובות 2\n",
       "0  hadarradah@gmail.com  khglkjblkjgljhg   asdasd\n",
       "1             some_mail          sdfsdfa   asdasd"
      ]
     },
     "execution_count": 5,
     "metadata": {},
     "output_type": "execute_result"
    }
   ],
   "source": [
    "dataset[colNames]"
   ]
  },
  {
   "cell_type": "code",
   "execution_count": 8,
   "metadata": {},
   "outputs": [
    {
     "data": {
      "text/html": [
       "<div>\n",
       "<style scoped>\n",
       "    .dataframe tbody tr th:only-of-type {\n",
       "        vertical-align: middle;\n",
       "    }\n",
       "\n",
       "    .dataframe tbody tr th {\n",
       "        vertical-align: top;\n",
       "    }\n",
       "\n",
       "    .dataframe thead th {\n",
       "        text-align: right;\n",
       "    }\n",
       "</style>\n",
       "<table border=\"1\" class=\"dataframe\">\n",
       "  <thead>\n",
       "    <tr style=\"text-align: right;\">\n",
       "      <th></th>\n",
       "      <th>דוא\"ל</th>\n",
       "      <th>תגובות 1</th>\n",
       "      <th>תגובות 2</th>\n",
       "    </tr>\n",
       "  </thead>\n",
       "  <tbody>\n",
       "    <tr>\n",
       "      <th>0</th>\n",
       "      <td>hadarradah@gmail.com some_mail</td>\n",
       "      <td>0.0</td>\n",
       "      <td>1.0</td>\n",
       "    </tr>\n",
       "  </tbody>\n",
       "</table>\n",
       "</div>"
      ],
      "text/plain": [
       "                            דוא\"ל  תגובות 1  תגובות 2\n",
       "0  hadarradah@gmail.com some_mail       0.0       1.0"
      ]
     },
     "execution_count": 8,
     "metadata": {},
     "output_type": "execute_result"
    }
   ],
   "source": [
    "df = pandas.DataFrame(columns = colNames) \n",
    "for i, row in dataset[colNames].iterrows():\n",
    "     for j, row_2 in dataset[colNames].iterrows():\n",
    "            if row[0]!=row_2[0] and j>i:\n",
    "                new_row = []\n",
    "                new_row.append(row[0]+' '+row_2[0])\n",
    "                for k in range(1,len(row)):\n",
    "                    \n",
    "                    new_row.append(str_compare(row[k],row_2[k]))\n",
    "                df = df.append(pandas.Series(new_row, index=colNames ), ignore_index=True)\n",
    "df"
   ]
  },
  {
   "cell_type": "code",
   "execution_count": 7,
   "metadata": {},
   "outputs": [],
   "source": [
    "from nltk.tokenize import word_tokenize\n",
    "\n",
    "def str_compare(X,Y):\n",
    "    X_list = word_tokenize(X)\n",
    "    Y_list = word_tokenize(Y)\n",
    "\n",
    "    # sw contains the list of stopwords\n",
    "    #sw = stopwords.words('english')\n",
    "    l1 = []\n",
    "    l2 = []\n",
    "\n",
    "    # remove stop words from the string\n",
    "    X_set = {w for w in X_list}\n",
    "    Y_set = {w for w in Y_list}\n",
    "\n",
    "    # form a set containing keywords of both strings\n",
    "    rvector = X_set.union(Y_set)\n",
    "\n",
    "    for w in rvector:\n",
    "        if w in X_set:\n",
    "            l1.append(1)  # create a vector\n",
    "        else:\n",
    "            l1.append(0)\n",
    "        if w in Y_set:\n",
    "            l2.append(1)\n",
    "        else:\n",
    "            l2.append(0)\n",
    "    c = 0\n",
    "\n",
    "    # cosine formula\n",
    "    for i in range(len(rvector)):\n",
    "        c += l1[i]*l2[i]\n",
    "    cosine = c / float((sum(l1)*sum(l2))**0.5)\n",
    "    return cosine"
   ]
  },
  {
   "cell_type": "code",
   "execution_count": 11,
   "metadata": {},
   "outputs": [],
   "source": [
    "df['mean'] = df.mean(axis = 1)"
   ]
  },
  {
   "cell_type": "code",
   "execution_count": 12,
   "metadata": {},
   "outputs": [
    {
     "data": {
      "text/html": [
       "<div>\n",
       "<style scoped>\n",
       "    .dataframe tbody tr th:only-of-type {\n",
       "        vertical-align: middle;\n",
       "    }\n",
       "\n",
       "    .dataframe tbody tr th {\n",
       "        vertical-align: top;\n",
       "    }\n",
       "\n",
       "    .dataframe thead th {\n",
       "        text-align: right;\n",
       "    }\n",
       "</style>\n",
       "<table border=\"1\" class=\"dataframe\">\n",
       "  <thead>\n",
       "    <tr style=\"text-align: right;\">\n",
       "      <th></th>\n",
       "      <th>דוא\"ל</th>\n",
       "      <th>תגובות 1</th>\n",
       "      <th>תגובות 2</th>\n",
       "      <th>mean</th>\n",
       "    </tr>\n",
       "  </thead>\n",
       "  <tbody>\n",
       "    <tr>\n",
       "      <th>0</th>\n",
       "      <td>hadarradah@gmail.com some_mail</td>\n",
       "      <td>0.0</td>\n",
       "      <td>1.0</td>\n",
       "      <td>0.5</td>\n",
       "    </tr>\n",
       "  </tbody>\n",
       "</table>\n",
       "</div>"
      ],
      "text/plain": [
       "                            דוא\"ל  תגובות 1  תגובות 2  mean\n",
       "0  hadarradah@gmail.com some_mail       0.0       1.0   0.5"
      ]
     },
     "execution_count": 12,
     "metadata": {},
     "output_type": "execute_result"
    }
   ],
   "source": [
    "df"
   ]
  },
  {
   "cell_type": "code",
   "execution_count": null,
   "metadata": {},
   "outputs": [],
   "source": []
  }
 ],
 "metadata": {
  "kernelspec": {
   "display_name": "Python 3",
   "language": "python",
   "name": "python3"
  },
  "language_info": {
   "codemirror_mode": {
    "name": "ipython",
    "version": 3
   },
   "file_extension": ".py",
   "mimetype": "text/x-python",
   "name": "python",
   "nbconvert_exporter": "python",
   "pygments_lexer": "ipython3",
   "version": "3.8.3"
  }
 },
 "nbformat": 4,
 "nbformat_minor": 4
}
